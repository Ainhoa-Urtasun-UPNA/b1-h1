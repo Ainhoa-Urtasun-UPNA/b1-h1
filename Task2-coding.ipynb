{
 "cells": [
  {
   "cell_type": "markdown",
   "id": "b32c3c06",
   "metadata": {},
   "source": [
    "## Task 2"
   ]
  },
  {
   "cell_type": "markdown",
   "id": "a1f481c8",
   "metadata": {},
   "source": [
    "### You're going to learn four things in this task:\n",
    "\n",
    "1. How to use Jupyter (Colaboratory) notebooks\n",
    "2. How to visualize text using Python\n",
    "\n",
    "### Total point value of this assignment\n",
    "This assignment is worth a total of (up to) 1 point. If your code passes all of the automatic checks, you will receive full credit."
   ]
  },
  {
   "cell_type": "markdown",
   "id": "5a8e2b20",
   "metadata": {},
   "source": [
     "<a href=\"https://colab.research.google.com/github/Ainhoa-Urtasun-UPNA/2021-BP/b1-h1/blob/master/Task2-coding.ipynb\" target=\"_parent\"><img src=\"https://colab.research.google.com/assets/colab-badge.svg\" alt=\"Open In Colab\"/></a>"
   ]
  },
  {
   "cell_type": "markdown",
   "id": "a0aa8bb2",
   "metadata": {},
   "source": [
    "## Set up"
   ]
  },
  {
   "cell_type": "code",
   "execution_count": null,
   "id": "0d8eb234",
   "metadata": {},
   "outputs": [],
   "source": [
    "from wordcloud import WordCloud, STOPWORDS\n",
    "!pip install wikipedia\n",
    "import wikipedia"
   ]
  },
  {
   "cell_type": "markdown",
   "id": "1423a6bc",
   "metadata": {},
   "source": [
    "## Creating and saving the word cloud"
   ]
  },
  {
   "cell_type": "code",
   "execution_count": null,
   "id": "6419c1ab",
   "metadata": {},
   "outputs": [],
   "source": [
    "wiki = wikipedia.page('...')\n",
    "text = wiki.content\n",
    "graph = WordCloud(background_color='black',max_words=500,stopwords=STOPWORDS).generate(text)\n",
    "graph.to_file('username.png')"
   ]
  },
  {
   "cell_type": "markdown",
   "id": "f8f0a718",
   "metadata": {},
   "source": [
    "## Submitting"
   ]
  },
  {
   "cell_type": "markdown",
   "id": "f857af12",
   "metadata": {},
   "source": [
    "Once you've completed the tasks above, it's time to submit!\n",
    "\n",
    "First, make sure to save your notebook (File > Save).\n",
    "\n",
    "Next, click the File menu button (upper left) and select Save a copy in GitHub.... A dialog box will pop up, asking you where to save the file. You should save your copy of this notebook in your assignment's GitHub repository (i.e., something like https://github.com/ContextLab/hello-world-<username>, where \"<username>\" is replaced with your actual GitHub username). Saving a copy of this notebook to your assignment's GitHub repository constitutes \"submitting\" the assignment.\n",
    "\n",
    "Troubleshooting\n",
    "If you can't find your assignment's GitHub repository (i.e., the copy of the assignment repository tagged with your GitHub username) in the Repository drop-down menu within the save dialogue box, the most likely explanation is that you haven't given Colaboratory access to your private repositories. Follow the setup and submission instructions to double check that you've given Colaboratory access to your private GitHub repositories.\n",
    "\n",
    "Updating your submission\n",
    "Prior to the assignment deadline you can re-submit your assignment as often as you would like. This will update the copy of your assignment file in your assignment's repository. Once the assignment deadline is reached, the copy of your assignment on GitHub will be submitted automatically (other than syncing your Colaboratory copy to GitHub, no additional action is required to submit this assignment). Prior submitted versions of your assignment will become part of your assignment's submission history.\n",
    "\n",
    "Re-starting your submission from scratch\n",
    "To restart your submission from scratch (from the original template notebook for this assignment), simply re-open the assignment's notebook in Colaboratory using this link.\n",
    "\n",
    "Modifying your prior submission(s)\n",
    "As an alternative to starting from scratch, you can also use your existing assignment as a jumping off point for further edits. The easiest way to do this is to open your Google Colaboratory account (link) and select your assignment's notebook using the dialogue box. It should be in the Recent tab. Or, if you've been working on other files, you can navigate to your notebook within the Google Drive (all Colaboratory notebooks are stored on your Google Drive space) or GitHub tabs. After saving your changes, simply follow the submission instructions again to re-copy your assignment to GitHub.\n",
    "\n",
    "Feedback\n",
    "Roughly a day or so after the assignment deadline has passed, the autograder script will generate a report containing:\n",
    "\n",
    "Your assignment grade\n",
    "Detailed feedback about which tests passed or failed\n",
    "The number of points earned for each test\n",
    "The report will be added to your assignment repository as a new file, report.txt, in a new GitHub branch of your submitted assignment's repository. Please do not share this file publicly, since it will contain information about your grade (which you may want to keep private) as well as about the hidden tests that were run on the assignment.\n",
    "\n"
   ]
  }
 ],
 "metadata": {
  "kernelspec": {
   "display_name": "Python 3 (ipykernel)",
   "language": "python",
   "name": "python3"
  },
  "language_info": {
   "codemirror_mode": {
    "name": "ipython",
    "version": 3
   },
   "file_extension": ".py",
   "mimetype": "text/x-python",
   "name": "python",
   "nbconvert_exporter": "python",
   "pygments_lexer": "ipython3",
   "version": "3.9.6"
  }
 },
 "nbformat": 4,
 "nbformat_minor": 5
}
